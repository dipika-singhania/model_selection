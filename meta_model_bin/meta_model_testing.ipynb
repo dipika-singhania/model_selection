{
 "cells": [
  {
   "cell_type": "code",
   "execution_count": 1,
   "metadata": {},
   "outputs": [],
   "source": [
    "import pandas as pd\n",
    "import numpy as np\n",
    "import pickle\n",
    "import sys\n",
    "sys.path.append('/home/dipika16/CS6203/')\n",
    "import dataset_loaders.image_classification.pytorch_datasets as pt_dset\n",
    "from dataset_loaders.image_classification import cars\n",
    "\n",
    "from sklearn.linear_model import LogisticRegression\n",
    "from sklearn.tree import DecisionTreeClassifier # Import Decision Tree Classifier\n",
    "from sklearn.model_selection import train_test_split # Import train_test_split function\n",
    "from sklearn import metrics #Import scikit-learn metrics module for accuracy calculation"
   ]
  },
  {
   "cell_type": "code",
   "execution_count": 14,
   "metadata": {},
   "outputs": [],
   "source": [
    "def get_scores(names, targets):\n",
    "    names = names.values\n",
    "    scores = {}\n",
    "    for i in range(len(names)):\n",
    "        dataset, model1, model2 = names[i].split('-')\n",
    "        scores[model1] = scores.get(model1, 0) + (targets[i] >= 0.5)\n",
    "        scores[model2] = scores.get(model2, 0) + (targets[i] <= 0.5)\n",
    "    return scores"
   ]
  },
  {
   "cell_type": "code",
   "execution_count": 112,
   "metadata": {},
   "outputs": [
    {
     "name": "stdout",
     "output_type": "stream",
     "text": [
      "(336, 21) (56, 21)\n",
      "Accuracy: 0.8392857142857143\n",
      "{'vgg16': 6, 'mnasnet0_5': 8, 'shufflenet_v2_x0_5': 12, 'mnasnet1_0': 4, 'resnet34': 10, 'mobilenet_v2': 0, 'resnet18': 14, 'alexnet': 2}\n",
      "{'vgg16': 4, 'mnasnet0_5': 10, 'shufflenet_v2_x0_5': 12, 'mnasnet1_0': 5, 'resnet34': 9, 'mobilenet_v2': 2, 'resnet18': 12, 'alexnet': 2}\n"
     ]
    }
   ],
   "source": [
    "from sklearn import preprocessing\n",
    "from sklearn.preprocessing import StandardScaler\n",
    "scaler = StandardScaler()\n",
    "min_max_scaler = preprocessing.MinMaxScaler()\n",
    "\n",
    "file_name = \"/home/dipika16/CS6203/meta_learning_features/meta_model_learning.csv\"\n",
    "\n",
    "data_frame = pd.read_csv(file_name)\n",
    "\n",
    "X = data_frame[data_frame.columns[1:-1]]\n",
    "y = data_frame[data_frame.columns[-1]]\n",
    "# scaler.fit(X)\n",
    "X = min_max_scaler.fit_transform(X)\n",
    "# X = scaler.transform(X)\n",
    "X = pd.DataFrame(X)\n",
    "\n",
    "# for col in X.columns:\n",
    "#     print(X[col].mean(), X[col].std())\n",
    "    \n",
    "cifar10_nind = ['Cifar10-' not in name for name in data_frame['name']]\n",
    "cifar10_ind = ['Cifar10-' in name for name in data_frame['name']]\n",
    "\n",
    "df_train = data_frame[cifar10_nind]\n",
    "df_test = data_frame[cifar10_ind]\n",
    "\n",
    "X_train = X[cifar10_nind]\n",
    "y_train = y[cifar10_nind]\n",
    "\n",
    "X_test = X[cifar10_ind]\n",
    "y_test = y[cifar10_ind]\n",
    "\n",
    "print(X_train.shape, X_test.shape)\n",
    "\n",
    "# X_train = min_max_scaler.fit_transform(X_train)\n",
    "# X_train = pd.DataFrame(X_train)\n",
    "\n",
    "# X_test = min_max_scaler.fit_transform(X_test)\n",
    "# X_test = pd.DataFrame(X_test)\n",
    "\n",
    "# X = data_frame[data_frame.columns[1:-1]]\n",
    "# y = data_frame[data_frame.columns[-1]]\n",
    "# # Split dataset into training set and test set\n",
    "# X_train, X_test, y_train, y_test = train_test_split(X, y, test_size=0.3, random_state=1) # 70% training and 30% test\n",
    "\n",
    "model = DecisionTreeClassifier()\n",
    "clf = model.fit(X_train,y_train)\n",
    "y_pred = clf.predict(X_test)\n",
    "y_prob = clf.predict_proba(X_test)\n",
    "\n",
    "# logistic = LogisticRegression().fit(X_train, y_train)\n",
    "# y_pred = logistic.predict(X_test)\n",
    "# y_prob = logistic.predict_proba(X_test)\n",
    "\n",
    "# from sklearn.svm import SVC\n",
    "# clf = SVC(gamma='scale')\n",
    "# clf.fit(X_train, y_train)\n",
    "# y_pred = clf.predict(X_test)\n",
    "\n",
    "# from sklearn.neighbors import KNeighborsClassifier\n",
    "# neigh = KNeighborsClassifier(n_neighbors=3)\n",
    "# neigh.fit(X_train, y_train) \n",
    "# y_pred = neigh.predict(X_test)\n",
    "\n",
    "print(\"Accuracy:\",metrics.accuracy_score(y_test, y_pred))\n",
    "# # for name, pred in zip(df_test['name'].values, y_pred):\n",
    "# #     print(name, pred)\n",
    "print(get_scores(df_test['name'], y_test.values))\n",
    "print(get_scores(df_test['name'], y_pred))\n",
    "\n",
    "# print(X_train)"
   ]
  },
  {
   "cell_type": "code",
   "execution_count": 111,
   "metadata": {},
   "outputs": [
    {
     "name": "stdout",
     "output_type": "stream",
     "text": [
      "[[ 0.49459459  0.50877193 -0.05715728 ...  1.14140149 -0.00714392\n",
      "  -0.00714392]\n",
      " [ 0.49459459  0.50877193 -0.05715728 ...  1.14140149 -0.00714392\n",
      "  -0.00714392]\n",
      " [ 0.49459459  0.50877193 -0.05715728 ...  1.14140149 -0.00714392\n",
      "  -0.00714392]\n",
      " ...\n",
      " [ 0.49459459  0.50877193 -0.05715728 ...  1.14140149 -0.00714392\n",
      "  -0.00714392]\n",
      " [ 0.49459459  0.50877193 -0.05715728 ...  1.14140149 -0.00714392\n",
      "  -0.00714392]\n",
      " [ 0.49459459  0.50877193 -0.05715728 ...  1.14140149 -0.00714392\n",
      "  -0.00714391]]\n",
      "{'alexnet': 0, 'shufflenet_v2_x0_5': 11, 'mnasnet0_5': 13, 'resnet18': 9, 'mnasnet1_0': 9, 'mobilenet_v2': 4, 'vgg16': 2, 'resnet34': 8}\n"
     ]
    }
   ],
   "source": [
    "flower_data = ['flower',213,320,3459,6,-1.86356251848787,2.4460253754907946,\n",
    " 1.6917786061683122,0.22424825848248525,1.6992114774522238,-2.1104607968056857,\n",
    " 0.6493938801595369,-0.016132741368067128,-0.021700957884821397,0.9723915936409163,\n",
    " -2.2470994394874646,-1.1299810723049237,-1.3211149929889237,-0.23125189076593491,0.5577938661654205]\n",
    "X_test1 = X_test\n",
    "X_test1.iloc[:,range(19)] = flower_data[1:]\n",
    "# X_test1.iloc([:,:19]) = flower_data[1:]\n",
    "print(min_max_scaler.transform(X_test1))\n",
    "y_pred = clf.predict(X_test)\n",
    "print(get_scores(df_test['name'], y_pred))"
   ]
  },
  {
   "cell_type": "code",
   "execution_count": 86,
   "metadata": {},
   "outputs": [],
   "source": [
    "with open('/home/dipika16/CS6203/meta_model_pool/DTree_traffic.pkl', 'wb') as modf:\n",
    "    dict2dump = {'clf' : clf, 'scores': get_scores(df_test['name'], y_pred)}\n",
    "    pickle.dump(dict2dump, modf)"
   ]
  },
  {
   "cell_type": "code",
   "execution_count": null,
   "metadata": {},
   "outputs": [],
   "source": [
    "pt_dset.load_cifar10('/home/dipika16/CS6203/dataset_pool/', None, 0.2, 10, True)\n",
    "pt_dset.load_cifar100('/home/dipika16/CS6203/dataset_pool/', None, 0.2, 10, True)\n",
    "pt_dset.load_KMNIST('/home/dipika16/CS6203/dataset_pool/', None, 0.2, 10, True)\n",
    "pt_dset.load_FashionMNIST('/home/dipika16/CS6203/dataset_pool/', None, 0.2, 10, True)\n",
    "pt_dset.load_mnist('/home/dipika16/CS6203/dataset_pool/', None, 0.2, 10, True)\n",
    "cars.load_cars('/home/dipika16/CS6203/dataset_pool/', None, 0.2, 10)"
   ]
  },
  {
   "cell_type": "code",
   "execution_count": 2,
   "metadata": {},
   "outputs": [],
   "source": [
    "from meta_model_bin.convert_params_to_dataset import BuildDatasetModelCSV\n",
    "\n",
    "json_dump_file = \"/home/dipika16/CS6203/logs/model_datasets_meta.json\"\n",
    "dataset_features_file = \"/home/dipika16/CS6203/meta_learning_features/dataset.csv\"\n",
    "dataset_model_train_file = \"/home/dipika16/CS6203/meta_learning_features/meta_model_learning.csv\"\n",
    "models_features_file = \"/home/dipika16/CS6203/meta_learning_features/models.csv\"\n",
    "bd = BuildDatasetModelCSV(json_dump_file, dataset_features_file, models_features_file, dataset_model_train_file)\n",
    "bd.load_and_populate_json_dump()"
   ]
  },
  {
   "cell_type": "code",
   "execution_count": 81,
   "metadata": {},
   "outputs": [
    {
     "data": {
      "image/png": "[encoded data removed]",
      "text/plain": [
       "<Figure size 1080x576 with 4 Axes>"
      ]
     },
     "metadata": {
      "needs_background": "light"
     },
     "output_type": "display_data"
    }
   ],
   "source": [
    "models = ['mnasnet0_5', 'shufflenet_v2_x0_5', 'mobilenet_v2', 'mnasnet1_0', 'resnet18', 'resnet34', 'vgg16']\n",
    "# models = list(bd.table['Mnist'].keys())\n",
    "datasets = ['Cifar100', 'cars', 'Cifar10', 'FashionMnist'] # list(bd.table.keys())\n",
    "\n",
    "from matplotlib import pyplot as plt\n",
    "# fig, ax = plt.subplots(nrows=2, ncols=2, figsize=(20, 10))\n",
    "fig, ax = plt.subplots(figsize=(15, 8))\n",
    "\n",
    "ind = np.arange(len(models))    # the x locations for the groups\n",
    "width = 0.5         # the width of the bars\n",
    "p = [i for i in range(len(datasets))]\n",
    "\n",
    "for i in range(len(datasets)):\n",
    "    plt.subplot(2, 2, i+1)\n",
    "    dataset = datasets[i]\n",
    "    heights = [bd.table[dataset][model][1] for model in models]\n",
    "    radii = np.array([bd.table[dataset][model][3] for model in models])\n",
    "#     radii = 500*radii /sum(radii)\n",
    "    p[i] = plt.bar(ind, height=heights, width=width, color=['C' + str(j) for j in range(len(models))])\n",
    "#     p[i] = plt.scatter(x=ind, y=heights, s=radii/(1e4), color=['C' + str(j) for j in range(len(models))])\n",
    "    plt.xticks([], [])\n",
    "    plt.title(dataset, fontdict={'size': 20})\n",
    "\n",
    "from matplotlib.lines import Line2D  \n",
    "custom_lines = [Line2D([0], [0], color='C0', lw=8),\n",
    "                Line2D([0], [0], color='C1', lw=8),\n",
    "                Line2D([0], [0], color='C2', lw=8),\n",
    "                Line2D([0], [0], color='C3', lw=8),\n",
    "                Line2D([0], [0], color='C4', lw=8),\n",
    "                Line2D([0], [0], color='C5', lw=8),\n",
    "                Line2D([0], [0], color='C6', lw=8)]\n",
    "fig.legend( custom_lines, models, loc = 'lower center', prop={'size': 16}, ncol=5)\n",
    "# ax.yaxis.set_units(inch)\n",
    "\n",
    "plt.show()"
   ]
  }
 ],
 "metadata": {
  "kernelspec": {
   "display_name": "Python 3",
   "language": "python",
   "name": "python3"
  },
  "language_info": {
   "codemirror_mode": {
    "name": "ipython",
    "version": 3
   },
   "file_extension": ".py",
   "mimetype": "text/x-python",
   "name": "python",
   "nbconvert_exporter": "python",
   "pygments_lexer": "ipython3",
   "version": "3.7.3"
  }
 },
 "nbformat": 4,
 "nbformat_minor": 2
}
